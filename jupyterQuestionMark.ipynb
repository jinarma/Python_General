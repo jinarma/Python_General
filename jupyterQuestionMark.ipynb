{
 "cells": [
  {
   "cell_type": "code",
   "execution_count": 20,
   "metadata": {},
   "outputs": [
    {
     "name": "stdout",
     "output_type": "stream",
     "text": [
      "abcd\n",
      "abdc\n",
      "acbd\n",
      "acdb\n",
      "adbc\n",
      "adcb\n",
      "bacd\n",
      "badc\n",
      "bcad\n",
      "bcda\n",
      "bdac\n",
      "bdca\n",
      "cabd\n",
      "cadb\n",
      "cbad\n",
      "cbda\n",
      "cdab\n",
      "cdba\n",
      "dabc\n",
      "dacb\n",
      "dbac\n",
      "dbca\n",
      "dcab\n",
      "dcba\n"
     ]
    }
   ],
   "source": [
    "def perm(stringList):\n",
    "\tif not stringList:\n",
    "\t\treturn [[]]\n",
    "\tresult = []\n",
    "\tfor i in stringList:\n",
    "\t\ttemp = stringList[:]\n",
    "\t\ttemp.remove(i)\n",
    "\t\tresult.extend([[i] + k for k in perm(temp)])\n",
    "\treturn result\n",
    "\n",
    "\n",
    "string = input()\n",
    "stringList = list(string)\n",
    "newList = perm(stringList)\n",
    "for i in newList:\n",
    "\tprint(''.join(i))\t"
   ]
  }
 ],
 "metadata": {
  "interpreter": {
   "hash": "ea033e7e5356fa9c2c0807dec38db4a826bc8b0cb8f8e5e009eef4e2302b6372"
  },
  "kernelspec": {
   "display_name": "Python 3.9.2 64-bit",
   "language": "python",
   "name": "python3"
  },
  "language_info": {
   "codemirror_mode": {
    "name": "ipython",
    "version": 3
   },
   "file_extension": ".py",
   "mimetype": "text/x-python",
   "name": "python",
   "nbconvert_exporter": "python",
   "pygments_lexer": "ipython3",
   "version": "3.9.2"
  },
  "orig_nbformat": 4
 },
 "nbformat": 4,
 "nbformat_minor": 2
}
