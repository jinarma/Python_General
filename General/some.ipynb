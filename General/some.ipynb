{
 "cells": [
  {
   "cell_type": "code",
   "execution_count": 4,
   "metadata": {},
   "outputs": [
    {
     "name": "stdout",
     "output_type": "stream",
     "text": [
      "[[1]]\n",
      "[[1]]\n",
      "[[1, 1], [1, 1]]\n",
      "[[1]]\n",
      "[[1]]\n",
      "[[1, 1], [1, 1]]\n",
      "[[1]]\n",
      "[[1]]\n",
      "[[1, 1], [1, 1]]\n",
      "[[1, 1, 1], [1, 1, 1], [1, 1, 1], [1, 1, 1], [1, 1, 1], [1, 1, 1]]\n",
      "[[1, 1, 1], [1, 1, 1], [1, 1, 1], [1, 1, 1], [1, 1, 1], [1, 1, 1]]\n"
     ]
    }
   ],
   "source": [
    "def permutList(l):\n",
    "    if not l:\n",
    "        return [[]]\n",
    "    res = []\n",
    "    for e in l:\n",
    "        temp = l[:]\n",
    "        temp.remove(e)\n",
    "        res.extend([[e] + r for r in permutList(temp)])\n",
    "\n",
    "    return res\n",
    "\n",
    "print(permutList([1, 1, 1]))"
   ]
  },
  {
   "cell_type": "code",
   "execution_count": 3,
   "metadata": {},
   "outputs": [
    {
     "name": "stdout",
     "output_type": "stream",
     "text": [
      "['1', '2', '3', '4', '5', '3']\n",
      "['3', '5', '4', '3', '2', '1']\n"
     ]
    }
   ],
   "source": [
    "x = 123453\n",
    "num_list = list(str(x))\n",
    "print(num_list)\n",
    "print(num_list[::-1])"
   ]
  }
 ],
 "metadata": {
  "interpreter": {
   "hash": "ea033e7e5356fa9c2c0807dec38db4a826bc8b0cb8f8e5e009eef4e2302b6372"
  },
  "kernelspec": {
   "display_name": "Python 3.9.5 64-bit",
   "language": "python",
   "name": "python3"
  },
  "language_info": {
   "codemirror_mode": {
    "name": "ipython",
    "version": 3
   },
   "file_extension": ".py",
   "mimetype": "text/x-python",
   "name": "python",
   "nbconvert_exporter": "python",
   "pygments_lexer": "ipython3",
   "version": "3.9.2"
  },
  "orig_nbformat": 4
 },
 "nbformat": 4,
 "nbformat_minor": 2
}
